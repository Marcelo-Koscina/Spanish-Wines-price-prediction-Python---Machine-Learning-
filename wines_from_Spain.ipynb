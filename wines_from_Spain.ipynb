{
 "cells": [
  {
   "cell_type": "markdown",
   "id": "5eed05eb",
   "metadata": {},
   "source": [
    "                         \n",
    "                                \n",
    "                                SPANISH WINES PRICE PREDICTION MODEL "
   ]
  },
  {
   "cell_type": "code",
   "execution_count": 11,
   "id": "664e0963",
   "metadata": {
    "ExecuteTime": {
     "end_time": "2022-08-16T21:45:59.611302Z",
     "start_time": "2022-08-16T21:45:59.603553Z"
    }
   },
   "outputs": [],
   "source": [
    "#Import libraries\n",
    "import pandas as pd\n",
    "import os\n",
    "import numpy as np\n",
    "from seaborn import boxplot\n",
    "import matplotlib.pyplot as plt\n",
    "import seaborn as sns \n",
    "from sklearn import metrics\n",
    "from sklearn.ensemble import GradientBoostingRegressor\n",
    "from xgboost import XGBRegressor\n",
    "from sklearn.preprocessing import LabelEncoder\n",
    "from sklearn.model_selection import train_test_split\n",
    "from sklearn.tree import DecisionTreeRegressor\n",
    "from sklearn.preprocessing import StandardScaler\n",
    "from sklearn.impute import SimpleImputer\n",
    "from sklearn.metrics import mean_squared_error,r2_score"
   ]
  },
  {
   "cell_type": "markdown",
   "id": "d5f18715",
   "metadata": {
    "ExecuteTime": {
     "end_time": "2022-08-15T00:27:20.231626Z",
     "start_time": "2022-08-15T00:27:20.226924Z"
    }
   },
   "source": [
    "# File Extraction and Exploratory Analysis"
   ]
  },
  {
   "cell_type": "code",
   "execution_count": 12,
   "id": "685be988",
   "metadata": {
    "ExecuteTime": {
     "end_time": "2022-08-16T21:46:01.271234Z",
     "start_time": "2022-08-16T21:46:01.242110Z"
    }
   },
   "outputs": [],
   "source": [
    "#Read File\n",
    "wine = pd.read_csv('data/wines_SPA.csv')"
   ]
  },
  {
   "cell_type": "code",
   "execution_count": 13,
   "id": "ce580817",
   "metadata": {
    "ExecuteTime": {
     "end_time": "2022-08-16T21:46:02.496166Z",
     "start_time": "2022-08-16T21:46:02.489159Z"
    }
   },
   "outputs": [],
   "source": [
    "#Saving a copy\n",
    "wine = wine.copy()"
   ]
  },
  {
   "cell_type": "code",
   "execution_count": 115,
   "id": "62bf5854",
   "metadata": {
    "ExecuteTime": {
     "end_time": "2022-08-17T00:08:07.888723Z",
     "start_time": "2022-08-17T00:08:07.861844Z"
    },
    "scrolled": true
   },
   "outputs": [
    {
     "data": {
      "text/html": [
       "<div>\n",
       "<style scoped>\n",
       "    .dataframe tbody tr th:only-of-type {\n",
       "        vertical-align: middle;\n",
       "    }\n",
       "\n",
       "    .dataframe tbody tr th {\n",
       "        vertical-align: top;\n",
       "    }\n",
       "\n",
       "    .dataframe thead th {\n",
       "        text-align: right;\n",
       "    }\n",
       "</style>\n",
       "<table border=\"1\" class=\"dataframe\">\n",
       "  <thead>\n",
       "    <tr style=\"text-align: right;\">\n",
       "      <th></th>\n",
       "      <th>winery</th>\n",
       "      <th>wine</th>\n",
       "      <th>year</th>\n",
       "      <th>rating</th>\n",
       "      <th>num_reviews</th>\n",
       "      <th>country</th>\n",
       "      <th>region</th>\n",
       "      <th>price</th>\n",
       "      <th>type</th>\n",
       "      <th>body</th>\n",
       "      <th>acidity</th>\n",
       "    </tr>\n",
       "  </thead>\n",
       "  <tbody>\n",
       "    <tr>\n",
       "      <th>0</th>\n",
       "      <td>Teso La Monja</td>\n",
       "      <td>Tinto</td>\n",
       "      <td>2013</td>\n",
       "      <td>4.9</td>\n",
       "      <td>58</td>\n",
       "      <td>Espana</td>\n",
       "      <td>Toro</td>\n",
       "      <td>995.00</td>\n",
       "      <td>Toro Red</td>\n",
       "      <td>5.0</td>\n",
       "      <td>3.0</td>\n",
       "    </tr>\n",
       "    <tr>\n",
       "      <th>1</th>\n",
       "      <td>Artadi</td>\n",
       "      <td>Vina El Pison</td>\n",
       "      <td>2018</td>\n",
       "      <td>4.9</td>\n",
       "      <td>31</td>\n",
       "      <td>Espana</td>\n",
       "      <td>Vino de Espana</td>\n",
       "      <td>313.50</td>\n",
       "      <td>Tempranillo</td>\n",
       "      <td>4.0</td>\n",
       "      <td>2.0</td>\n",
       "    </tr>\n",
       "    <tr>\n",
       "      <th>2</th>\n",
       "      <td>Vega Sicilia</td>\n",
       "      <td>Unico</td>\n",
       "      <td>2009</td>\n",
       "      <td>4.8</td>\n",
       "      <td>1793</td>\n",
       "      <td>Espana</td>\n",
       "      <td>Ribera del Duero</td>\n",
       "      <td>324.95</td>\n",
       "      <td>Ribera Del Duero Red</td>\n",
       "      <td>5.0</td>\n",
       "      <td>3.0</td>\n",
       "    </tr>\n",
       "    <tr>\n",
       "      <th>3</th>\n",
       "      <td>Vega Sicilia</td>\n",
       "      <td>Unico</td>\n",
       "      <td>1999</td>\n",
       "      <td>4.8</td>\n",
       "      <td>1705</td>\n",
       "      <td>Espana</td>\n",
       "      <td>Ribera del Duero</td>\n",
       "      <td>692.96</td>\n",
       "      <td>Ribera Del Duero Red</td>\n",
       "      <td>5.0</td>\n",
       "      <td>3.0</td>\n",
       "    </tr>\n",
       "    <tr>\n",
       "      <th>4</th>\n",
       "      <td>Vega Sicilia</td>\n",
       "      <td>Unico</td>\n",
       "      <td>1996</td>\n",
       "      <td>4.8</td>\n",
       "      <td>1309</td>\n",
       "      <td>Espana</td>\n",
       "      <td>Ribera del Duero</td>\n",
       "      <td>778.06</td>\n",
       "      <td>Ribera Del Duero Red</td>\n",
       "      <td>5.0</td>\n",
       "      <td>3.0</td>\n",
       "    </tr>\n",
       "  </tbody>\n",
       "</table>\n",
       "</div>"
      ],
      "text/plain": [
       "          winery           wine  year  rating  num_reviews country  \\\n",
       "0  Teso La Monja          Tinto  2013     4.9           58  Espana   \n",
       "1         Artadi  Vina El Pison  2018     4.9           31  Espana   \n",
       "2   Vega Sicilia          Unico  2009     4.8         1793  Espana   \n",
       "3   Vega Sicilia          Unico  1999     4.8         1705  Espana   \n",
       "4   Vega Sicilia          Unico  1996     4.8         1309  Espana   \n",
       "\n",
       "             region   price                  type  body  acidity  \n",
       "0              Toro  995.00              Toro Red   5.0      3.0  \n",
       "1    Vino de Espana  313.50           Tempranillo   4.0      2.0  \n",
       "2  Ribera del Duero  324.95  Ribera Del Duero Red   5.0      3.0  \n",
       "3  Ribera del Duero  692.96  Ribera Del Duero Red   5.0      3.0  \n",
       "4  Ribera del Duero  778.06  Ribera Del Duero Red   5.0      3.0  "
      ]
     },
     "execution_count": 115,
     "metadata": {},
     "output_type": "execute_result"
    }
   ],
   "source": [
    "#head it\n",
    "wine.head()"
   ]
  },
  {
   "cell_type": "code",
   "execution_count": 15,
   "id": "226424a7",
   "metadata": {
    "ExecuteTime": {
     "end_time": "2022-08-16T21:46:05.835081Z",
     "start_time": "2022-08-16T21:46:05.809287Z"
    },
    "scrolled": true
   },
   "outputs": [
    {
     "name": "stdout",
     "output_type": "stream",
     "text": [
      "<class 'pandas.core.frame.DataFrame'>\n",
      "RangeIndex: 7500 entries, 0 to 7499\n",
      "Data columns (total 11 columns):\n",
      " #   Column       Non-Null Count  Dtype  \n",
      "---  ------       --------------  -----  \n",
      " 0   winery       7500 non-null   object \n",
      " 1   wine         7500 non-null   object \n",
      " 2   year         7498 non-null   object \n",
      " 3   rating       7500 non-null   float64\n",
      " 4   num_reviews  7500 non-null   int64  \n",
      " 5   country      7500 non-null   object \n",
      " 6   region       7500 non-null   object \n",
      " 7   price        7500 non-null   float64\n",
      " 8   type         6955 non-null   object \n",
      " 9   body         6331 non-null   float64\n",
      " 10  acidity      6331 non-null   float64\n",
      "dtypes: float64(4), int64(1), object(6)\n",
      "memory usage: 644.7+ KB\n"
     ]
    }
   ],
   "source": [
    "#Check columns/nulls/Dtypes\n",
    "wine.info()"
   ]
  },
  {
   "cell_type": "code",
   "execution_count": 16,
   "id": "c4f1aabc",
   "metadata": {
    "ExecuteTime": {
     "end_time": "2022-08-16T21:46:07.529109Z",
     "start_time": "2022-08-16T21:46:07.491380Z"
    },
    "scrolled": true
   },
   "outputs": [
    {
     "data": {
      "text/html": [
       "<div>\n",
       "<style scoped>\n",
       "    .dataframe tbody tr th:only-of-type {\n",
       "        vertical-align: middle;\n",
       "    }\n",
       "\n",
       "    .dataframe tbody tr th {\n",
       "        vertical-align: top;\n",
       "    }\n",
       "\n",
       "    .dataframe thead th {\n",
       "        text-align: right;\n",
       "    }\n",
       "</style>\n",
       "<table border=\"1\" class=\"dataframe\">\n",
       "  <thead>\n",
       "    <tr style=\"text-align: right;\">\n",
       "      <th></th>\n",
       "      <th>rating</th>\n",
       "      <th>num_reviews</th>\n",
       "      <th>price</th>\n",
       "      <th>body</th>\n",
       "      <th>acidity</th>\n",
       "    </tr>\n",
       "  </thead>\n",
       "  <tbody>\n",
       "    <tr>\n",
       "      <th>count</th>\n",
       "      <td>7500.000000</td>\n",
       "      <td>7500.000000</td>\n",
       "      <td>7500.000000</td>\n",
       "      <td>6331.000000</td>\n",
       "      <td>6331.000000</td>\n",
       "    </tr>\n",
       "    <tr>\n",
       "      <th>mean</th>\n",
       "      <td>4.254933</td>\n",
       "      <td>451.109067</td>\n",
       "      <td>60.095822</td>\n",
       "      <td>4.158427</td>\n",
       "      <td>2.946612</td>\n",
       "    </tr>\n",
       "    <tr>\n",
       "      <th>std</th>\n",
       "      <td>0.118029</td>\n",
       "      <td>723.001856</td>\n",
       "      <td>150.356676</td>\n",
       "      <td>0.583352</td>\n",
       "      <td>0.248202</td>\n",
       "    </tr>\n",
       "    <tr>\n",
       "      <th>min</th>\n",
       "      <td>4.200000</td>\n",
       "      <td>25.000000</td>\n",
       "      <td>4.990000</td>\n",
       "      <td>2.000000</td>\n",
       "      <td>1.000000</td>\n",
       "    </tr>\n",
       "    <tr>\n",
       "      <th>25%</th>\n",
       "      <td>4.200000</td>\n",
       "      <td>389.000000</td>\n",
       "      <td>18.900000</td>\n",
       "      <td>4.000000</td>\n",
       "      <td>3.000000</td>\n",
       "    </tr>\n",
       "    <tr>\n",
       "      <th>50%</th>\n",
       "      <td>4.200000</td>\n",
       "      <td>404.000000</td>\n",
       "      <td>28.530000</td>\n",
       "      <td>4.000000</td>\n",
       "      <td>3.000000</td>\n",
       "    </tr>\n",
       "    <tr>\n",
       "      <th>75%</th>\n",
       "      <td>4.200000</td>\n",
       "      <td>415.000000</td>\n",
       "      <td>51.350000</td>\n",
       "      <td>5.000000</td>\n",
       "      <td>3.000000</td>\n",
       "    </tr>\n",
       "    <tr>\n",
       "      <th>max</th>\n",
       "      <td>4.900000</td>\n",
       "      <td>32624.000000</td>\n",
       "      <td>3119.080000</td>\n",
       "      <td>5.000000</td>\n",
       "      <td>3.000000</td>\n",
       "    </tr>\n",
       "  </tbody>\n",
       "</table>\n",
       "</div>"
      ],
      "text/plain": [
       "            rating   num_reviews        price         body      acidity\n",
       "count  7500.000000   7500.000000  7500.000000  6331.000000  6331.000000\n",
       "mean      4.254933    451.109067    60.095822     4.158427     2.946612\n",
       "std       0.118029    723.001856   150.356676     0.583352     0.248202\n",
       "min       4.200000     25.000000     4.990000     2.000000     1.000000\n",
       "25%       4.200000    389.000000    18.900000     4.000000     3.000000\n",
       "50%       4.200000    404.000000    28.530000     4.000000     3.000000\n",
       "75%       4.200000    415.000000    51.350000     5.000000     3.000000\n",
       "max       4.900000  32624.000000  3119.080000     5.000000     3.000000"
      ]
     },
     "execution_count": 16,
     "metadata": {},
     "output_type": "execute_result"
    }
   ],
   "source": [
    "#Check overall distribution\n",
    "wine.describe()"
   ]
  },
  {
   "cell_type": "code",
   "execution_count": 17,
   "id": "6a30ddca",
   "metadata": {
    "ExecuteTime": {
     "end_time": "2022-08-16T21:46:09.078943Z",
     "start_time": "2022-08-16T21:46:09.048519Z"
    }
   },
   "outputs": [
    {
     "data": {
      "text/html": [
       "<div>\n",
       "<style scoped>\n",
       "    .dataframe tbody tr th:only-of-type {\n",
       "        vertical-align: middle;\n",
       "    }\n",
       "\n",
       "    .dataframe tbody tr th {\n",
       "        vertical-align: top;\n",
       "    }\n",
       "\n",
       "    .dataframe thead th {\n",
       "        text-align: right;\n",
       "    }\n",
       "</style>\n",
       "<table border=\"1\" class=\"dataframe\">\n",
       "  <thead>\n",
       "    <tr style=\"text-align: right;\">\n",
       "      <th></th>\n",
       "      <th>rating</th>\n",
       "      <th>num_reviews</th>\n",
       "      <th>price</th>\n",
       "      <th>body</th>\n",
       "      <th>acidity</th>\n",
       "    </tr>\n",
       "  </thead>\n",
       "  <tbody>\n",
       "    <tr>\n",
       "      <th>rating</th>\n",
       "      <td>1.000000</td>\n",
       "      <td>0.015229</td>\n",
       "      <td>0.544809</td>\n",
       "      <td>0.163033</td>\n",
       "      <td>-0.094553</td>\n",
       "    </tr>\n",
       "    <tr>\n",
       "      <th>num_reviews</th>\n",
       "      <td>0.015229</td>\n",
       "      <td>1.000000</td>\n",
       "      <td>-0.030083</td>\n",
       "      <td>0.067106</td>\n",
       "      <td>0.040138</td>\n",
       "    </tr>\n",
       "    <tr>\n",
       "      <th>price</th>\n",
       "      <td>0.544809</td>\n",
       "      <td>-0.030083</td>\n",
       "      <td>1.000000</td>\n",
       "      <td>0.153624</td>\n",
       "      <td>-0.032870</td>\n",
       "    </tr>\n",
       "    <tr>\n",
       "      <th>body</th>\n",
       "      <td>0.163033</td>\n",
       "      <td>0.067106</td>\n",
       "      <td>0.153624</td>\n",
       "      <td>1.000000</td>\n",
       "      <td>-0.017950</td>\n",
       "    </tr>\n",
       "    <tr>\n",
       "      <th>acidity</th>\n",
       "      <td>-0.094553</td>\n",
       "      <td>0.040138</td>\n",
       "      <td>-0.032870</td>\n",
       "      <td>-0.017950</td>\n",
       "      <td>1.000000</td>\n",
       "    </tr>\n",
       "  </tbody>\n",
       "</table>\n",
       "</div>"
      ],
      "text/plain": [
       "               rating  num_reviews     price      body   acidity\n",
       "rating       1.000000     0.015229  0.544809  0.163033 -0.094553\n",
       "num_reviews  0.015229     1.000000 -0.030083  0.067106  0.040138\n",
       "price        0.544809    -0.030083  1.000000  0.153624 -0.032870\n",
       "body         0.163033     0.067106  0.153624  1.000000 -0.017950\n",
       "acidity     -0.094553     0.040138 -0.032870 -0.017950  1.000000"
      ]
     },
     "execution_count": 17,
     "metadata": {},
     "output_type": "execute_result"
    }
   ],
   "source": [
    "#check columns correlation\n",
    "wine.corr()"
   ]
  },
  {
   "cell_type": "code",
   "execution_count": 18,
   "id": "63a97b17",
   "metadata": {
    "ExecuteTime": {
     "end_time": "2022-08-16T21:46:11.484100Z",
     "start_time": "2022-08-16T21:46:10.939324Z"
    },
    "scrolled": true
   },
   "outputs": [
    {
     "data": {
      "image/png": "[encoded data removed]",
      "text/plain": [
       "<Figure size 576x288 with 1 Axes>"
      ]
     },
     "metadata": {
      "needs_background": "light"
     },
     "output_type": "display_data"
    }
   ],
   "source": [
    "#Check distribution visually with boxplot\n",
    "figure,ax = plt.subplots(figsize=(8,4))\n",
    "sns.boxplot(data=wine,y='price',x='type',linewidth=2.5)\n",
    "plt.xticks(rotation=45);"
   ]
  },
  {
   "cell_type": "markdown",
   "id": "549244fe",
   "metadata": {
    "ExecuteTime": {
     "end_time": "2022-08-15T00:32:59.414037Z",
     "start_time": "2022-08-15T00:32:59.403991Z"
    }
   },
   "source": [
    "# Data Cleaning and Manipulation"
   ]
  },
  {
   "cell_type": "code",
   "execution_count": 19,
   "id": "35b38445",
   "metadata": {
    "ExecuteTime": {
     "end_time": "2022-08-16T21:46:14.517887Z",
     "start_time": "2022-08-16T21:46:14.481631Z"
    }
   },
   "outputs": [],
   "source": [
    "#Dealing with nulls\n",
    "wine['year'].fillna(2017,inplace=True)"
   ]
  },
  {
   "cell_type": "code",
   "execution_count": 21,
   "id": "e0e470a6",
   "metadata": {
    "ExecuteTime": {
     "end_time": "2022-08-16T21:46:18.039002Z",
     "start_time": "2022-08-16T21:46:18.001986Z"
    }
   },
   "outputs": [
    {
     "name": "stderr",
     "output_type": "stream",
     "text": [
      "/var/folders/b1/73l5jp1s275_80hff3y8kc6m0000gn/T/ipykernel_26683/4173897160.py:2: FutureWarning: The default value of regex will change from True to False in a future version.\n",
      "  wine['year'] = wine['year'].astype(str).str.replace('N.V.','2017').astype(int)\n"
     ]
    }
   ],
   "source": [
    "#Transforming qualitative to quantitatives\n",
    "wine['year'] = wine['year'].astype(str).str.replace('N.V.','2017').astype(int)"
   ]
  },
  {
   "cell_type": "code",
   "execution_count": 23,
   "id": "323fe318",
   "metadata": {
    "ExecuteTime": {
     "end_time": "2022-08-16T21:46:22.200955Z",
     "start_time": "2022-08-16T21:46:22.190524Z"
    }
   },
   "outputs": [],
   "source": [
    "#Dealing with nulls\n",
    "wine['acidity']=wine.acidity.fillna(wine.acidity.median())\n",
    "wine['body']=wine.body.fillna(wine.body.median())\n",
    "wine['type'].fillna('unknown',inplace=True)\n"
   ]
  },
  {
   "cell_type": "markdown",
   "id": "56032036",
   "metadata": {},
   "source": [
    "As the wines price range variation is too high, lets share in 4 different price range tables, to merge it later!"
   ]
  },
  {
   "cell_type": "code",
   "execution_count": 24,
   "id": "adb4c17b",
   "metadata": {
    "ExecuteTime": {
     "end_time": "2022-08-16T21:46:23.698842Z",
     "start_time": "2022-08-16T21:46:23.673396Z"
    }
   },
   "outputs": [],
   "source": [
    "#Creating a function accoding to price ranges and to convert categorics to numerics\n",
    "\n",
    "wine1 = wine[wine['price'] < 70]\n",
    "wine2 = wine[(wine['price']>=70) & (wine['price']<250)]\n",
    "wine3 = wine[(wine['price']>=250) & (wine['price']<500)]\n",
    "wine4 = wine[(wine['price']>=500) & (wine['price']<1800)]\n",
    "wine5 = wine[wine['price'] >= 1800]\n",
    "\n",
    "def wine_price_table(x):\n",
    "    \"function to share tables in price range, to further create columns accordinly\"\n",
    "    if x==1:\n",
    "        return wine1\n",
    "    elif x==2:\n",
    "        return wine2\n",
    "    elif x==3:\n",
    "        return wine3\n",
    "    elif x==4:\n",
    "        return wine4\n",
    "    elif x == 5:\n",
    "        return wine5\n",
    "    else:\n",
    "        print('Invalid input, enter only numbers, between 1 and 5')\n",
    "        \n",
    "        \n",
    "def winery_num(x):\n",
    "    \"function to further share in winery price range columns via for loop\"\n",
    "    if x==1:\n",
    "        return winery1_num\n",
    "    elif x==2:  \n",
    "        return winery2_num\n",
    "    elif x==3:\n",
    "        return winery3_num\n",
    "    elif x==4:\n",
    "        return winery4_num\n",
    "    elif x == 5:\n",
    "        return winery5_num\n",
    "    else:\n",
    "        print('Invalid input, enter only numbers, between 1 and 5') \n",
    "\n",
    "def region_num(x):\n",
    "    \"function to further share in region price range columns via for loop\"\n",
    "    if x==1:\n",
    "        return region1_num\n",
    "    elif x==2:\n",
    "        return region2_num\n",
    "    elif x==3:\n",
    "        return region3_num\n",
    "    elif x==4:\n",
    "        return region4_num\n",
    "    elif x == 5:\n",
    "        return region5_num\n",
    "    else:\n",
    "        print('Invalid input, enter only numbers, between 1 and 5')\n",
    "   \n",
    " \n",
    "\n",
    "def type_num(x):\n",
    "    \"function to further share in type price range columns via for loop\"\n",
    "    if x==1:\n",
    "        return type1_num\n",
    "    elif x==2:\n",
    "        return type2_num\n",
    "    elif x==3:\n",
    "        return type3_num\n",
    "    elif x==4:\n",
    "        return type4_num\n",
    "    elif x == 5:\n",
    "        return type5_num\n",
    "    else:\n",
    "        print('Invalid input, enter only numbers, between 1 and 5')\n",
    "        \n"
   ]
  },
  {
   "cell_type": "code",
   "execution_count": 26,
   "id": "766d97fa",
   "metadata": {
    "ExecuteTime": {
     "end_time": "2022-08-16T21:46:35.155844Z",
     "start_time": "2022-08-16T21:46:35.077902Z"
    }
   },
   "outputs": [
    {
     "name": "stderr",
     "output_type": "stream",
     "text": [
      "/var/folders/b1/73l5jp1s275_80hff3y8kc6m0000gn/T/ipykernel_26683/37433855.py:4: SettingWithCopyWarning: \n",
      "A value is trying to be set on a copy of a slice from a DataFrame.\n",
      "Try using .loc[row_indexer,col_indexer] = value instead\n",
      "\n",
      "See the caveats in the documentation: https://pandas.pydata.org/pandas-docs/stable/user_guide/indexing.html#returning-a-view-versus-a-copy\n",
      "  wine_price_table(i)['wine'] = labencoder.fit_transform(wine_price_table(i)['wine'])\n"
     ]
    }
   ],
   "source": [
    "#Transforming 'wine' categoric column to numerics, shared in respective price range columns,applying Label Encoder\n",
    "\n",
    "for i in range(1,6):\n",
    "    labencoder = LabelEncoder()\n",
    "    labencoder.fit(wine_price_table(i)['wine'])\n",
    "    wine_price_table(i)['wine'] = labencoder.fit_transform(wine_price_table(i)['wine'])"
   ]
  },
  {
   "cell_type": "code",
   "execution_count": 27,
   "id": "343ab86d",
   "metadata": {
    "ExecuteTime": {
     "end_time": "2022-08-16T21:46:36.714746Z",
     "start_time": "2022-08-16T21:46:36.503092Z"
    }
   },
   "outputs": [
    {
     "name": "stderr",
     "output_type": "stream",
     "text": [
      "/var/folders/b1/73l5jp1s275_80hff3y8kc6m0000gn/T/ipykernel_26683/3677878376.py:13: SettingWithCopyWarning: \n",
      "A value is trying to be set on a copy of a slice from a DataFrame.\n",
      "Try using .loc[row_indexer,col_indexer] = value instead\n",
      "\n",
      "See the caveats in the documentation: https://pandas.pydata.org/pandas-docs/stable/user_guide/indexing.html#returning-a-view-versus-a-copy\n",
      "  wine1['winery_num'] = winery1_num\n",
      "/var/folders/b1/73l5jp1s275_80hff3y8kc6m0000gn/T/ipykernel_26683/3677878376.py:14: SettingWithCopyWarning: \n",
      "A value is trying to be set on a copy of a slice from a DataFrame.\n",
      "Try using .loc[row_indexer,col_indexer] = value instead\n",
      "\n",
      "See the caveats in the documentation: https://pandas.pydata.org/pandas-docs/stable/user_guide/indexing.html#returning-a-view-versus-a-copy\n",
      "  wine2['winery_num'] = winery2_num\n",
      "/var/folders/b1/73l5jp1s275_80hff3y8kc6m0000gn/T/ipykernel_26683/3677878376.py:15: SettingWithCopyWarning: \n",
      "A value is trying to be set on a copy of a slice from a DataFrame.\n",
      "Try using .loc[row_indexer,col_indexer] = value instead\n",
      "\n",
      "See the caveats in the documentation: https://pandas.pydata.org/pandas-docs/stable/user_guide/indexing.html#returning-a-view-versus-a-copy\n",
      "  wine3['winery_num'] = winery3_num\n",
      "/var/folders/b1/73l5jp1s275_80hff3y8kc6m0000gn/T/ipykernel_26683/3677878376.py:16: SettingWithCopyWarning: \n",
      "A value is trying to be set on a copy of a slice from a DataFrame.\n",
      "Try using .loc[row_indexer,col_indexer] = value instead\n",
      "\n",
      "See the caveats in the documentation: https://pandas.pydata.org/pandas-docs/stable/user_guide/indexing.html#returning-a-view-versus-a-copy\n",
      "  wine4['winery_num'] = winery4_num\n",
      "/var/folders/b1/73l5jp1s275_80hff3y8kc6m0000gn/T/ipykernel_26683/3677878376.py:17: SettingWithCopyWarning: \n",
      "A value is trying to be set on a copy of a slice from a DataFrame.\n",
      "Try using .loc[row_indexer,col_indexer] = value instead\n",
      "\n",
      "See the caveats in the documentation: https://pandas.pydata.org/pandas-docs/stable/user_guide/indexing.html#returning-a-view-versus-a-copy\n",
      "  wine5['winery_num'] = winery5_num\n"
     ]
    }
   ],
   "source": [
    "#Transforming 'winery' categoric column to numerics, shared according to median price range columns\n",
    "winery1_num = []\n",
    "winery2_num = []\n",
    "winery3_num = []\n",
    "winery4_num = []\n",
    "winery5_num = []\n",
    "\n",
    "for i in range(1,6):\n",
    "    wap = pd.DataFrame(wine_price_table(i).groupby('winery')['price'].median())\n",
    "    for x in wine_price_table(i).winery:\n",
    "        x = wap.price[x]\n",
    "        winery_num(i).append(round(x,0))\n",
    "        \n",
    "wine1['winery_num'] = winery1_num \n",
    "wine2['winery_num'] = winery2_num \n",
    "wine3['winery_num'] = winery3_num \n",
    "wine4['winery_num'] = winery4_num\n",
    "wine5['winery_num'] = winery5_num "
   ]
  },
  {
   "cell_type": "code",
   "execution_count": 28,
   "id": "84dccf6d",
   "metadata": {
    "ExecuteTime": {
     "end_time": "2022-08-16T21:46:39.750185Z",
     "start_time": "2022-08-16T21:46:39.547870Z"
    }
   },
   "outputs": [
    {
     "name": "stderr",
     "output_type": "stream",
     "text": [
      "/var/folders/b1/73l5jp1s275_80hff3y8kc6m0000gn/T/ipykernel_26683/1065786762.py:13: SettingWithCopyWarning: \n",
      "A value is trying to be set on a copy of a slice from a DataFrame.\n",
      "Try using .loc[row_indexer,col_indexer] = value instead\n",
      "\n",
      "See the caveats in the documentation: https://pandas.pydata.org/pandas-docs/stable/user_guide/indexing.html#returning-a-view-versus-a-copy\n",
      "  wine1['region_num'] = region1_num\n",
      "/var/folders/b1/73l5jp1s275_80hff3y8kc6m0000gn/T/ipykernel_26683/1065786762.py:14: SettingWithCopyWarning: \n",
      "A value is trying to be set on a copy of a slice from a DataFrame.\n",
      "Try using .loc[row_indexer,col_indexer] = value instead\n",
      "\n",
      "See the caveats in the documentation: https://pandas.pydata.org/pandas-docs/stable/user_guide/indexing.html#returning-a-view-versus-a-copy\n",
      "  wine2['region_num'] = region2_num\n",
      "/var/folders/b1/73l5jp1s275_80hff3y8kc6m0000gn/T/ipykernel_26683/1065786762.py:15: SettingWithCopyWarning: \n",
      "A value is trying to be set on a copy of a slice from a DataFrame.\n",
      "Try using .loc[row_indexer,col_indexer] = value instead\n",
      "\n",
      "See the caveats in the documentation: https://pandas.pydata.org/pandas-docs/stable/user_guide/indexing.html#returning-a-view-versus-a-copy\n",
      "  wine3['region_num'] = region3_num\n",
      "/var/folders/b1/73l5jp1s275_80hff3y8kc6m0000gn/T/ipykernel_26683/1065786762.py:16: SettingWithCopyWarning: \n",
      "A value is trying to be set on a copy of a slice from a DataFrame.\n",
      "Try using .loc[row_indexer,col_indexer] = value instead\n",
      "\n",
      "See the caveats in the documentation: https://pandas.pydata.org/pandas-docs/stable/user_guide/indexing.html#returning-a-view-versus-a-copy\n",
      "  wine4['region_num'] = region4_num\n",
      "/var/folders/b1/73l5jp1s275_80hff3y8kc6m0000gn/T/ipykernel_26683/1065786762.py:17: SettingWithCopyWarning: \n",
      "A value is trying to be set on a copy of a slice from a DataFrame.\n",
      "Try using .loc[row_indexer,col_indexer] = value instead\n",
      "\n",
      "See the caveats in the documentation: https://pandas.pydata.org/pandas-docs/stable/user_guide/indexing.html#returning-a-view-versus-a-copy\n",
      "  wine5['region_num'] = region5_num\n"
     ]
    }
   ],
   "source": [
    "#Transforming 'region' categoric column to numerics, shared according to median price range columns\n",
    "region1_num = []\n",
    "region2_num = []\n",
    "region3_num = []\n",
    "region4_num = []\n",
    "region5_num = []\n",
    "\n",
    "for i in range(1,6):\n",
    "    rap = pd.DataFrame(wine_price_table(i).groupby('region')['price'].median())\n",
    "    for x in wine_price_table(i).region:\n",
    "        x = rap.price[x]\n",
    "        region_num(i).append(round(x,0))\n",
    "        \n",
    "wine1['region_num'] = region1_num \n",
    "wine2['region_num'] = region2_num \n",
    "wine3['region_num'] = region3_num \n",
    "wine4['region_num'] = region4_num\n",
    "wine5['region_num'] = region5_num "
   ]
  },
  {
   "cell_type": "code",
   "execution_count": 29,
   "id": "bfe9af77",
   "metadata": {
    "ExecuteTime": {
     "end_time": "2022-08-16T21:46:45.989272Z",
     "start_time": "2022-08-16T21:46:45.781441Z"
    },
    "scrolled": true
   },
   "outputs": [
    {
     "name": "stderr",
     "output_type": "stream",
     "text": [
      "/var/folders/b1/73l5jp1s275_80hff3y8kc6m0000gn/T/ipykernel_26683/3568348796.py:12: SettingWithCopyWarning: \n",
      "A value is trying to be set on a copy of a slice from a DataFrame.\n",
      "Try using .loc[row_indexer,col_indexer] = value instead\n",
      "\n",
      "See the caveats in the documentation: https://pandas.pydata.org/pandas-docs/stable/user_guide/indexing.html#returning-a-view-versus-a-copy\n",
      "  wine1['type_num'] = type1_num\n",
      "/var/folders/b1/73l5jp1s275_80hff3y8kc6m0000gn/T/ipykernel_26683/3568348796.py:13: SettingWithCopyWarning: \n",
      "A value is trying to be set on a copy of a slice from a DataFrame.\n",
      "Try using .loc[row_indexer,col_indexer] = value instead\n",
      "\n",
      "See the caveats in the documentation: https://pandas.pydata.org/pandas-docs/stable/user_guide/indexing.html#returning-a-view-versus-a-copy\n",
      "  wine2['type_num'] = type2_num\n",
      "/var/folders/b1/73l5jp1s275_80hff3y8kc6m0000gn/T/ipykernel_26683/3568348796.py:14: SettingWithCopyWarning: \n",
      "A value is trying to be set on a copy of a slice from a DataFrame.\n",
      "Try using .loc[row_indexer,col_indexer] = value instead\n",
      "\n",
      "See the caveats in the documentation: https://pandas.pydata.org/pandas-docs/stable/user_guide/indexing.html#returning-a-view-versus-a-copy\n",
      "  wine3['type_num'] = type3_num\n",
      "/var/folders/b1/73l5jp1s275_80hff3y8kc6m0000gn/T/ipykernel_26683/3568348796.py:15: SettingWithCopyWarning: \n",
      "A value is trying to be set on a copy of a slice from a DataFrame.\n",
      "Try using .loc[row_indexer,col_indexer] = value instead\n",
      "\n",
      "See the caveats in the documentation: https://pandas.pydata.org/pandas-docs/stable/user_guide/indexing.html#returning-a-view-versus-a-copy\n",
      "  wine4['type_num'] = type4_num\n",
      "/var/folders/b1/73l5jp1s275_80hff3y8kc6m0000gn/T/ipykernel_26683/3568348796.py:16: SettingWithCopyWarning: \n",
      "A value is trying to be set on a copy of a slice from a DataFrame.\n",
      "Try using .loc[row_indexer,col_indexer] = value instead\n",
      "\n",
      "See the caveats in the documentation: https://pandas.pydata.org/pandas-docs/stable/user_guide/indexing.html#returning-a-view-versus-a-copy\n",
      "  wine5['type_num'] = type5_num\n"
     ]
    }
   ],
   "source": [
    "#Transforming 'type' categoric column to numerics, shared according to median price range columns\n",
    "type1_num = []\n",
    "type2_num = []\n",
    "type3_num = []\n",
    "type4_num = []\n",
    "type5_num = []\n",
    "\n",
    "for i in range(1,6):\n",
    "    tap = pd.DataFrame(wine_price_table(i).groupby('type')['price'].median())\n",
    "    for x in wine_price_table(i).type:\n",
    "        x = tap.price[x]\n",
    "        type_num(i).append(round(x,0))\n",
    "wine1['type_num'] = type1_num \n",
    "wine2['type_num'] = type2_num \n",
    "wine3['type_num'] = type3_num\n",
    "wine4['type_num'] = type4_num \n",
    "wine5['type_num'] = type5_num \n",
    "\n"
   ]
  },
  {
   "cell_type": "code",
   "execution_count": 37,
   "id": "fb6d9ec4",
   "metadata": {
    "ExecuteTime": {
     "end_time": "2022-08-16T21:50:32.765123Z",
     "start_time": "2022-08-16T21:50:32.755201Z"
    }
   },
   "outputs": [],
   "source": [
    "#concatenating all shared price tables\n",
    "wine_all = pd.concat([wine1,wine2,wine3,wine4,wine5],ignore_index = True)"
   ]
  },
  {
   "cell_type": "code",
   "execution_count": 38,
   "id": "4983f044",
   "metadata": {
    "ExecuteTime": {
     "end_time": "2022-08-16T21:50:33.923453Z",
     "start_time": "2022-08-16T21:50:33.898018Z"
    },
    "scrolled": true
   },
   "outputs": [
    {
     "data": {
      "text/html": [
       "<div>\n",
       "<style scoped>\n",
       "    .dataframe tbody tr th:only-of-type {\n",
       "        vertical-align: middle;\n",
       "    }\n",
       "\n",
       "    .dataframe tbody tr th {\n",
       "        vertical-align: top;\n",
       "    }\n",
       "\n",
       "    .dataframe thead th {\n",
       "        text-align: right;\n",
       "    }\n",
       "</style>\n",
       "<table border=\"1\" class=\"dataframe\">\n",
       "  <thead>\n",
       "    <tr style=\"text-align: right;\">\n",
       "      <th></th>\n",
       "      <th>winery</th>\n",
       "      <th>wine</th>\n",
       "      <th>year</th>\n",
       "      <th>rating</th>\n",
       "      <th>num_reviews</th>\n",
       "      <th>country</th>\n",
       "      <th>region</th>\n",
       "      <th>price</th>\n",
       "      <th>type</th>\n",
       "      <th>body</th>\n",
       "      <th>acidity</th>\n",
       "      <th>winery_num</th>\n",
       "      <th>region_num</th>\n",
       "      <th>type_num</th>\n",
       "    </tr>\n",
       "  </thead>\n",
       "  <tbody>\n",
       "    <tr>\n",
       "      <th>0</th>\n",
       "      <td>Quinta de la Quietud</td>\n",
       "      <td>320</td>\n",
       "      <td>2015</td>\n",
       "      <td>4.7</td>\n",
       "      <td>256</td>\n",
       "      <td>Espana</td>\n",
       "      <td>Toro</td>\n",
       "      <td>63.75</td>\n",
       "      <td>Toro Red</td>\n",
       "      <td>5.0</td>\n",
       "      <td>3.0</td>\n",
       "      <td>63.0</td>\n",
       "      <td>28.0</td>\n",
       "      <td>28.0</td>\n",
       "    </tr>\n",
       "    <tr>\n",
       "      <th>1</th>\n",
       "      <td>Bodegas Mauro</td>\n",
       "      <td>595</td>\n",
       "      <td>2017</td>\n",
       "      <td>4.7</td>\n",
       "      <td>251</td>\n",
       "      <td>Espana</td>\n",
       "      <td>Castilla y Leon</td>\n",
       "      <td>66.07</td>\n",
       "      <td>Tempranillo</td>\n",
       "      <td>4.0</td>\n",
       "      <td>2.0</td>\n",
       "      <td>56.0</td>\n",
       "      <td>37.0</td>\n",
       "      <td>49.0</td>\n",
       "    </tr>\n",
       "    <tr>\n",
       "      <th>2</th>\n",
       "      <td>Finca Moncloa</td>\n",
       "      <td>602</td>\n",
       "      <td>2016</td>\n",
       "      <td>4.7</td>\n",
       "      <td>92</td>\n",
       "      <td>Espana</td>\n",
       "      <td>Cadiz</td>\n",
       "      <td>43.13</td>\n",
       "      <td>unknown</td>\n",
       "      <td>4.0</td>\n",
       "      <td>3.0</td>\n",
       "      <td>43.0</td>\n",
       "      <td>32.0</td>\n",
       "      <td>20.0</td>\n",
       "    </tr>\n",
       "    <tr>\n",
       "      <th>3</th>\n",
       "      <td>Recaredo</td>\n",
       "      <td>492</td>\n",
       "      <td>2011</td>\n",
       "      <td>4.7</td>\n",
       "      <td>35</td>\n",
       "      <td>Espana</td>\n",
       "      <td>Cava</td>\n",
       "      <td>65.05</td>\n",
       "      <td>Cava</td>\n",
       "      <td>2.0</td>\n",
       "      <td>3.0</td>\n",
       "      <td>35.0</td>\n",
       "      <td>44.0</td>\n",
       "      <td>44.0</td>\n",
       "    </tr>\n",
       "    <tr>\n",
       "      <th>4</th>\n",
       "      <td>Miguel Merino</td>\n",
       "      <td>317</td>\n",
       "      <td>2018</td>\n",
       "      <td>4.7</td>\n",
       "      <td>29</td>\n",
       "      <td>Espana</td>\n",
       "      <td>Rioja Alta</td>\n",
       "      <td>46.00</td>\n",
       "      <td>Rioja Red</td>\n",
       "      <td>4.0</td>\n",
       "      <td>3.0</td>\n",
       "      <td>42.0</td>\n",
       "      <td>25.0</td>\n",
       "      <td>28.0</td>\n",
       "    </tr>\n",
       "  </tbody>\n",
       "</table>\n",
       "</div>"
      ],
      "text/plain": [
       "                 winery  wine  year  rating  num_reviews country  \\\n",
       "0  Quinta de la Quietud   320  2015     4.7          256  Espana   \n",
       "1         Bodegas Mauro   595  2017     4.7          251  Espana   \n",
       "2         Finca Moncloa   602  2016     4.7           92  Espana   \n",
       "3              Recaredo   492  2011     4.7           35  Espana   \n",
       "4         Miguel Merino   317  2018     4.7           29  Espana   \n",
       "\n",
       "            region  price         type  body  acidity  winery_num  region_num  \\\n",
       "0             Toro  63.75     Toro Red   5.0      3.0        63.0        28.0   \n",
       "1  Castilla y Leon  66.07  Tempranillo   4.0      2.0        56.0        37.0   \n",
       "2            Cadiz  43.13      unknown   4.0      3.0        43.0        32.0   \n",
       "3             Cava  65.05         Cava   2.0      3.0        35.0        44.0   \n",
       "4       Rioja Alta  46.00    Rioja Red   4.0      3.0        42.0        25.0   \n",
       "\n",
       "   type_num  \n",
       "0      28.0  \n",
       "1      49.0  \n",
       "2      20.0  \n",
       "3      44.0  \n",
       "4      28.0  "
      ]
     },
     "execution_count": 38,
     "metadata": {},
     "output_type": "execute_result"
    }
   ],
   "source": [
    "#checking table results\n",
    "wine_all.head()"
   ]
  },
  {
   "cell_type": "code",
   "execution_count": 39,
   "id": "f9090ec8",
   "metadata": {
    "ExecuteTime": {
     "end_time": "2022-08-16T21:50:35.952464Z",
     "start_time": "2022-08-16T21:50:35.941812Z"
    }
   },
   "outputs": [],
   "source": [
    "#Dropping remained categoric columns before applying machine learning\n",
    "wine_all = wine_all.drop(columns=['winery','num_reviews','country','region'])"
   ]
  },
  {
   "cell_type": "code",
   "execution_count": 40,
   "id": "851232ac",
   "metadata": {
    "ExecuteTime": {
     "end_time": "2022-08-16T21:50:37.195343Z",
     "start_time": "2022-08-16T21:50:37.188343Z"
    },
    "scrolled": true
   },
   "outputs": [],
   "source": [
    "#Ordenating columns for a better visialization\n",
    "wine_all = wine_all.loc[:,['winery_num','wine','year','rating','region_num','type_num','body','acidity','price']]"
   ]
  },
  {
   "cell_type": "code",
   "execution_count": 41,
   "id": "e463f615",
   "metadata": {
    "ExecuteTime": {
     "end_time": "2022-08-16T21:50:38.372346Z",
     "start_time": "2022-08-16T21:50:38.350007Z"
    },
    "scrolled": true
   },
   "outputs": [
    {
     "data": {
      "text/html": [
       "<div>\n",
       "<style scoped>\n",
       "    .dataframe tbody tr th:only-of-type {\n",
       "        vertical-align: middle;\n",
       "    }\n",
       "\n",
       "    .dataframe tbody tr th {\n",
       "        vertical-align: top;\n",
       "    }\n",
       "\n",
       "    .dataframe thead th {\n",
       "        text-align: right;\n",
       "    }\n",
       "</style>\n",
       "<table border=\"1\" class=\"dataframe\">\n",
       "  <thead>\n",
       "    <tr style=\"text-align: right;\">\n",
       "      <th></th>\n",
       "      <th>winery_num</th>\n",
       "      <th>wine</th>\n",
       "      <th>year</th>\n",
       "      <th>rating</th>\n",
       "      <th>region_num</th>\n",
       "      <th>type_num</th>\n",
       "      <th>body</th>\n",
       "      <th>acidity</th>\n",
       "      <th>price</th>\n",
       "    </tr>\n",
       "  </thead>\n",
       "  <tbody>\n",
       "    <tr>\n",
       "      <th>0</th>\n",
       "      <td>63.0</td>\n",
       "      <td>320</td>\n",
       "      <td>2015</td>\n",
       "      <td>4.7</td>\n",
       "      <td>28.0</td>\n",
       "      <td>28.0</td>\n",
       "      <td>5.0</td>\n",
       "      <td>3.0</td>\n",
       "      <td>63.75</td>\n",
       "    </tr>\n",
       "    <tr>\n",
       "      <th>1</th>\n",
       "      <td>56.0</td>\n",
       "      <td>595</td>\n",
       "      <td>2017</td>\n",
       "      <td>4.7</td>\n",
       "      <td>37.0</td>\n",
       "      <td>49.0</td>\n",
       "      <td>4.0</td>\n",
       "      <td>2.0</td>\n",
       "      <td>66.07</td>\n",
       "    </tr>\n",
       "    <tr>\n",
       "      <th>2</th>\n",
       "      <td>43.0</td>\n",
       "      <td>602</td>\n",
       "      <td>2016</td>\n",
       "      <td>4.7</td>\n",
       "      <td>32.0</td>\n",
       "      <td>20.0</td>\n",
       "      <td>4.0</td>\n",
       "      <td>3.0</td>\n",
       "      <td>43.13</td>\n",
       "    </tr>\n",
       "    <tr>\n",
       "      <th>3</th>\n",
       "      <td>35.0</td>\n",
       "      <td>492</td>\n",
       "      <td>2011</td>\n",
       "      <td>4.7</td>\n",
       "      <td>44.0</td>\n",
       "      <td>44.0</td>\n",
       "      <td>2.0</td>\n",
       "      <td>3.0</td>\n",
       "      <td>65.05</td>\n",
       "    </tr>\n",
       "    <tr>\n",
       "      <th>4</th>\n",
       "      <td>42.0</td>\n",
       "      <td>317</td>\n",
       "      <td>2018</td>\n",
       "      <td>4.7</td>\n",
       "      <td>25.0</td>\n",
       "      <td>28.0</td>\n",
       "      <td>4.0</td>\n",
       "      <td>3.0</td>\n",
       "      <td>46.00</td>\n",
       "    </tr>\n",
       "  </tbody>\n",
       "</table>\n",
       "</div>"
      ],
      "text/plain": [
       "   winery_num  wine  year  rating  region_num  type_num  body  acidity  price\n",
       "0        63.0   320  2015     4.7        28.0      28.0   5.0      3.0  63.75\n",
       "1        56.0   595  2017     4.7        37.0      49.0   4.0      2.0  66.07\n",
       "2        43.0   602  2016     4.7        32.0      20.0   4.0      3.0  43.13\n",
       "3        35.0   492  2011     4.7        44.0      44.0   2.0      3.0  65.05\n",
       "4        42.0   317  2018     4.7        25.0      28.0   4.0      3.0  46.00"
      ]
     },
     "execution_count": 41,
     "metadata": {},
     "output_type": "execute_result"
    }
   ],
   "source": [
    "#checking table results\n",
    "wine_all.head()"
   ]
  },
  {
   "cell_type": "code",
   "execution_count": 71,
   "id": "4ceed14b",
   "metadata": {
    "ExecuteTime": {
     "end_time": "2022-08-16T22:03:12.825248Z",
     "start_time": "2022-08-16T22:03:12.808620Z"
    }
   },
   "outputs": [
    {
     "name": "stdout",
     "output_type": "stream",
     "text": [
      "<class 'pandas.core.frame.DataFrame'>\n",
      "RangeIndex: 7500 entries, 0 to 7499\n",
      "Data columns (total 9 columns):\n",
      " #   Column      Non-Null Count  Dtype  \n",
      "---  ------      --------------  -----  \n",
      " 0   winery_num  7500 non-null   float64\n",
      " 1   wine        7500 non-null   int64  \n",
      " 2   year        7500 non-null   int64  \n",
      " 3   rating      7500 non-null   float64\n",
      " 4   region_num  7500 non-null   float64\n",
      " 5   type_num    7500 non-null   float64\n",
      " 6   body        7500 non-null   float64\n",
      " 7   acidity     7500 non-null   float64\n",
      " 8   price       7500 non-null   float64\n",
      "dtypes: float64(7), int64(2)\n",
      "memory usage: 527.5 KB\n"
     ]
    }
   ],
   "source": [
    "#checking cleaning and manipulation results\n",
    "wine_all.info()"
   ]
  },
  {
   "cell_type": "code",
   "execution_count": 36,
   "id": "8c66db0d",
   "metadata": {
    "ExecuteTime": {
     "end_time": "2022-08-16T21:47:41.976921Z",
     "start_time": "2022-08-16T21:47:41.954550Z"
    },
    "scrolled": true
   },
   "outputs": [
    {
     "data": {
      "text/html": [
       "<div>\n",
       "<style scoped>\n",
       "    .dataframe tbody tr th:only-of-type {\n",
       "        vertical-align: middle;\n",
       "    }\n",
       "\n",
       "    .dataframe tbody tr th {\n",
       "        vertical-align: top;\n",
       "    }\n",
       "\n",
       "    .dataframe thead th {\n",
       "        text-align: right;\n",
       "    }\n",
       "</style>\n",
       "<table border=\"1\" class=\"dataframe\">\n",
       "  <thead>\n",
       "    <tr style=\"text-align: right;\">\n",
       "      <th></th>\n",
       "      <th>winery_num</th>\n",
       "      <th>year</th>\n",
       "      <th>rating</th>\n",
       "      <th>region_num</th>\n",
       "      <th>type_num</th>\n",
       "      <th>body</th>\n",
       "      <th>acidity</th>\n",
       "      <th>price</th>\n",
       "    </tr>\n",
       "  </thead>\n",
       "  <tbody>\n",
       "    <tr>\n",
       "      <th>winery_num</th>\n",
       "      <td>1.000000</td>\n",
       "      <td>-0.366262</td>\n",
       "      <td>0.543499</td>\n",
       "      <td>0.974771</td>\n",
       "      <td>0.973699</td>\n",
       "      <td>0.158993</td>\n",
       "      <td>-0.039515</td>\n",
       "      <td>0.977207</td>\n",
       "    </tr>\n",
       "    <tr>\n",
       "      <th>year</th>\n",
       "      <td>-0.366262</td>\n",
       "      <td>1.000000</td>\n",
       "      <td>-0.297111</td>\n",
       "      <td>-0.358641</td>\n",
       "      <td>-0.356660</td>\n",
       "      <td>-0.117040</td>\n",
       "      <td>0.153066</td>\n",
       "      <td>-0.389817</td>\n",
       "    </tr>\n",
       "    <tr>\n",
       "      <th>rating</th>\n",
       "      <td>0.543499</td>\n",
       "      <td>-0.297111</td>\n",
       "      <td>1.000000</td>\n",
       "      <td>0.531454</td>\n",
       "      <td>0.529354</td>\n",
       "      <td>0.166637</td>\n",
       "      <td>-0.098896</td>\n",
       "      <td>0.544809</td>\n",
       "    </tr>\n",
       "    <tr>\n",
       "      <th>region_num</th>\n",
       "      <td>0.974771</td>\n",
       "      <td>-0.358641</td>\n",
       "      <td>0.531454</td>\n",
       "      <td>1.000000</td>\n",
       "      <td>0.998974</td>\n",
       "      <td>0.157305</td>\n",
       "      <td>-0.048003</td>\n",
       "      <td>0.960099</td>\n",
       "    </tr>\n",
       "    <tr>\n",
       "      <th>type_num</th>\n",
       "      <td>0.973699</td>\n",
       "      <td>-0.356660</td>\n",
       "      <td>0.529354</td>\n",
       "      <td>0.998974</td>\n",
       "      <td>1.000000</td>\n",
       "      <td>0.156755</td>\n",
       "      <td>-0.048408</td>\n",
       "      <td>0.959533</td>\n",
       "    </tr>\n",
       "    <tr>\n",
       "      <th>body</th>\n",
       "      <td>0.158993</td>\n",
       "      <td>-0.117040</td>\n",
       "      <td>0.166637</td>\n",
       "      <td>0.157305</td>\n",
       "      <td>0.156755</td>\n",
       "      <td>1.000000</td>\n",
       "      <td>-0.026806</td>\n",
       "      <td>0.161068</td>\n",
       "    </tr>\n",
       "    <tr>\n",
       "      <th>acidity</th>\n",
       "      <td>-0.039515</td>\n",
       "      <td>0.153066</td>\n",
       "      <td>-0.098896</td>\n",
       "      <td>-0.048003</td>\n",
       "      <td>-0.048408</td>\n",
       "      <td>-0.026806</td>\n",
       "      <td>1.000000</td>\n",
       "      <td>-0.039905</td>\n",
       "    </tr>\n",
       "    <tr>\n",
       "      <th>price</th>\n",
       "      <td>0.977207</td>\n",
       "      <td>-0.389817</td>\n",
       "      <td>0.544809</td>\n",
       "      <td>0.960099</td>\n",
       "      <td>0.959533</td>\n",
       "      <td>0.161068</td>\n",
       "      <td>-0.039905</td>\n",
       "      <td>1.000000</td>\n",
       "    </tr>\n",
       "  </tbody>\n",
       "</table>\n",
       "</div>"
      ],
      "text/plain": [
       "            winery_num      year    rating  region_num  type_num      body  \\\n",
       "winery_num    1.000000 -0.366262  0.543499    0.974771  0.973699  0.158993   \n",
       "year         -0.366262  1.000000 -0.297111   -0.358641 -0.356660 -0.117040   \n",
       "rating        0.543499 -0.297111  1.000000    0.531454  0.529354  0.166637   \n",
       "region_num    0.974771 -0.358641  0.531454    1.000000  0.998974  0.157305   \n",
       "type_num      0.973699 -0.356660  0.529354    0.998974  1.000000  0.156755   \n",
       "body          0.158993 -0.117040  0.166637    0.157305  0.156755  1.000000   \n",
       "acidity      -0.039515  0.153066 -0.098896   -0.048003 -0.048408 -0.026806   \n",
       "price         0.977207 -0.389817  0.544809    0.960099  0.959533  0.161068   \n",
       "\n",
       "             acidity     price  \n",
       "winery_num -0.039515  0.977207  \n",
       "year        0.153066 -0.389817  \n",
       "rating     -0.098896  0.544809  \n",
       "region_num -0.048003  0.960099  \n",
       "type_num   -0.048408  0.959533  \n",
       "body       -0.026806  0.161068  \n",
       "acidity     1.000000 -0.039905  \n",
       "price      -0.039905  1.000000  "
      ]
     },
     "execution_count": 36,
     "metadata": {},
     "output_type": "execute_result"
    }
   ],
   "source": [
    "#checking columns correlation after dataset preparation\n",
    "wine_all.corr()"
   ]
  },
  {
   "cell_type": "code",
   "execution_count": null,
   "id": "eeb9804e",
   "metadata": {},
   "outputs": [],
   "source": []
  },
  {
   "cell_type": "markdown",
   "id": "d763236a",
   "metadata": {},
   "source": [
    "# Modeling\n"
   ]
  },
  {
   "cell_type": "code",
   "execution_count": 108,
   "id": "a7332d18",
   "metadata": {
    "ExecuteTime": {
     "end_time": "2022-08-16T23:30:12.545713Z",
     "start_time": "2022-08-16T23:30:12.539742Z"
    },
    "scrolled": true
   },
   "outputs": [],
   "source": [
    "# Defining X and y to apply ML, and deletinf winery_num and region_num columns due data leaking!\n",
    "X = wine_all.drop(['price','winery_num','region_num',],axis=1)\n",
    "y = wine_all['price']"
   ]
  },
  {
   "cell_type": "code",
   "execution_count": 116,
   "id": "f0923961",
   "metadata": {
    "ExecuteTime": {
     "end_time": "2022-08-17T00:08:53.135307Z",
     "start_time": "2022-08-17T00:08:53.097935Z"
    },
    "scrolled": false
   },
   "outputs": [
    {
     "data": {
      "text/html": [
       "<style>#sk-container-id-5 {color: black;background-color: white;}#sk-container-id-5 pre{padding: 0;}#sk-container-id-5 div.sk-toggleable {background-color: white;}#sk-container-id-5 label.sk-toggleable__label {cursor: pointer;display: block;width: 100%;margin-bottom: 0;padding: 0.3em;box-sizing: border-box;text-align: center;}#sk-container-id-5 label.sk-toggleable__label-arrow:before {content: \"▸\";float: left;margin-right: 0.25em;color: #696969;}#sk-container-id-5 label.sk-toggleable__label-arrow:hover:before {color: black;}#sk-container-id-5 div.sk-estimator:hover label.sk-toggleable__label-arrow:before {color: black;}#sk-container-id-5 div.sk-toggleable__content {max-height: 0;max-width: 0;overflow: hidden;text-align: left;background-color: #f0f8ff;}#sk-container-id-5 div.sk-toggleable__content pre {margin: 0.2em;color: black;border-radius: 0.25em;background-color: #f0f8ff;}#sk-container-id-5 input.sk-toggleable__control:checked~div.sk-toggleable__content {max-height: 200px;max-width: 100%;overflow: auto;}#sk-container-id-5 input.sk-toggleable__control:checked~label.sk-toggleable__label-arrow:before {content: \"▾\";}#sk-container-id-5 div.sk-estimator input.sk-toggleable__control:checked~label.sk-toggleable__label {background-color: #d4ebff;}#sk-container-id-5 div.sk-label input.sk-toggleable__control:checked~label.sk-toggleable__label {background-color: #d4ebff;}#sk-container-id-5 input.sk-hidden--visually {border: 0;clip: rect(1px 1px 1px 1px);clip: rect(1px, 1px, 1px, 1px);height: 1px;margin: -1px;overflow: hidden;padding: 0;position: absolute;width: 1px;}#sk-container-id-5 div.sk-estimator {font-family: monospace;background-color: #f0f8ff;border: 1px dotted black;border-radius: 0.25em;box-sizing: border-box;margin-bottom: 0.5em;}#sk-container-id-5 div.sk-estimator:hover {background-color: #d4ebff;}#sk-container-id-5 div.sk-parallel-item::after {content: \"\";width: 100%;border-bottom: 1px solid gray;flex-grow: 1;}#sk-container-id-5 div.sk-label:hover label.sk-toggleable__label {background-color: #d4ebff;}#sk-container-id-5 div.sk-serial::before {content: \"\";position: absolute;border-left: 1px solid gray;box-sizing: border-box;top: 0;bottom: 0;left: 50%;z-index: 0;}#sk-container-id-5 div.sk-serial {display: flex;flex-direction: column;align-items: center;background-color: white;padding-right: 0.2em;padding-left: 0.2em;position: relative;}#sk-container-id-5 div.sk-item {position: relative;z-index: 1;}#sk-container-id-5 div.sk-parallel {display: flex;align-items: stretch;justify-content: center;background-color: white;position: relative;}#sk-container-id-5 div.sk-item::before, #sk-container-id-5 div.sk-parallel-item::before {content: \"\";position: absolute;border-left: 1px solid gray;box-sizing: border-box;top: 0;bottom: 0;left: 50%;z-index: -1;}#sk-container-id-5 div.sk-parallel-item {display: flex;flex-direction: column;z-index: 1;position: relative;background-color: white;}#sk-container-id-5 div.sk-parallel-item:first-child::after {align-self: flex-end;width: 50%;}#sk-container-id-5 div.sk-parallel-item:last-child::after {align-self: flex-start;width: 50%;}#sk-container-id-5 div.sk-parallel-item:only-child::after {width: 0;}#sk-container-id-5 div.sk-dashed-wrapped {border: 1px dashed gray;margin: 0 0.4em 0.5em 0.4em;box-sizing: border-box;padding-bottom: 0.4em;background-color: white;}#sk-container-id-5 div.sk-label label {font-family: monospace;font-weight: bold;display: inline-block;line-height: 1.2em;}#sk-container-id-5 div.sk-label-container {text-align: center;}#sk-container-id-5 div.sk-container {/* jupyter's `normalize.less` sets `[hidden] { display: none; }` but bootstrap.min.css set `[hidden] { display: none !important; }` so we also need the `!important` here to be able to override the default hidden behavior on the sphinx rendered scikit-learn.org. See: https://github.com/scikit-learn/scikit-learn/issues/21755 */display: inline-block !important;position: relative;}#sk-container-id-5 div.sk-text-repr-fallback {display: none;}</style><div id=\"sk-container-id-5\" class=\"sk-top-container\"><div class=\"sk-text-repr-fallback\"><pre>LinearRegression()</pre><b>In a Jupyter environment, please rerun this cell to show the HTML representation or trust the notebook. <br />On GitHub, the HTML representation is unable to render, please try loading this page with nbviewer.org.</b></div><div class=\"sk-container\" hidden><div class=\"sk-item\"><div class=\"sk-estimator sk-toggleable\"><input class=\"sk-toggleable__control sk-hidden--visually\" id=\"sk-estimator-id-5\" type=\"checkbox\" checked><label for=\"sk-estimator-id-5\" class=\"sk-toggleable__label sk-toggleable__label-arrow\">LinearRegression</label><div class=\"sk-toggleable__content\"><pre>LinearRegression()</pre></div></div></div></div></div>"
      ],
      "text/plain": [
       "LinearRegression()"
      ]
     },
     "execution_count": 116,
     "metadata": {},
     "output_type": "execute_result"
    }
   ],
   "source": [
    "#Applying Lenear Regression and model fitting\n",
    "from sklearn.linear_model import LinearRegression\n",
    "model = LinearRegression()\n",
    "model.fit(X,y)"
   ]
  },
  {
   "cell_type": "code",
   "execution_count": 49,
   "id": "90a671c6",
   "metadata": {
    "ExecuteTime": {
     "end_time": "2022-08-16T21:51:29.729999Z",
     "start_time": "2022-08-16T21:51:29.710639Z"
    },
    "scrolled": true
   },
   "outputs": [
    {
     "data": {
      "text/plain": [
       "0.9249639120801734"
      ]
     },
     "execution_count": 49,
     "metadata": {},
     "output_type": "execute_result"
    }
   ],
   "source": [
    "#checking RMSE score\n",
    "model.score(X,y)"
   ]
  },
  {
   "cell_type": "code",
   "execution_count": 81,
   "id": "46904550",
   "metadata": {
    "ExecuteTime": {
     "end_time": "2022-08-16T22:19:56.316432Z",
     "start_time": "2022-08-16T22:19:56.303499Z"
    }
   },
   "outputs": [
    {
     "data": {
      "text/plain": [
       "array([  58.44880162,   64.58309739,   47.34053043, ..., 2784.38258166,\n",
       "       3153.93267727, 2783.26521989])"
      ]
     },
     "execution_count": 81,
     "metadata": {},
     "output_type": "execute_result"
    }
   ],
   "source": [
    "#Checking predicted results\n",
    "y_pred = model.predict(X)\n",
    "y_pred"
   ]
  },
  {
   "cell_type": "code",
   "execution_count": 82,
   "id": "cd930d9a",
   "metadata": {
    "ExecuteTime": {
     "end_time": "2022-08-16T22:20:00.594465Z",
     "start_time": "2022-08-16T22:20:00.588223Z"
    }
   },
   "outputs": [],
   "source": [
    "#Creating a predicted model table\n",
    "wines_SPA_predicted = wine.drop(columns=['price'])"
   ]
  },
  {
   "cell_type": "code",
   "execution_count": 83,
   "id": "a62fd149",
   "metadata": {
    "ExecuteTime": {
     "end_time": "2022-08-16T22:20:02.166289Z",
     "start_time": "2022-08-16T22:20:02.157079Z"
    }
   },
   "outputs": [],
   "source": [
    "#Creating the price predicted column\n",
    "wines_SPA_predicted['price_predicted'] = y_pred"
   ]
  },
  {
   "cell_type": "code",
   "execution_count": 57,
   "id": "58ba5239",
   "metadata": {
    "ExecuteTime": {
     "end_time": "2022-08-16T21:52:51.565716Z",
     "start_time": "2022-08-16T21:52:51.522719Z"
    },
    "scrolled": true
   },
   "outputs": [
    {
     "data": {
      "text/html": [
       "<div>\n",
       "<style scoped>\n",
       "    .dataframe tbody tr th:only-of-type {\n",
       "        vertical-align: middle;\n",
       "    }\n",
       "\n",
       "    .dataframe tbody tr th {\n",
       "        vertical-align: top;\n",
       "    }\n",
       "\n",
       "    .dataframe thead th {\n",
       "        text-align: right;\n",
       "    }\n",
       "</style>\n",
       "<table border=\"1\" class=\"dataframe\">\n",
       "  <thead>\n",
       "    <tr style=\"text-align: right;\">\n",
       "      <th></th>\n",
       "      <th>winery</th>\n",
       "      <th>wine</th>\n",
       "      <th>year</th>\n",
       "      <th>rating</th>\n",
       "      <th>num_reviews</th>\n",
       "      <th>country</th>\n",
       "      <th>region</th>\n",
       "      <th>type</th>\n",
       "      <th>body</th>\n",
       "      <th>acidity</th>\n",
       "      <th>price_predicted</th>\n",
       "    </tr>\n",
       "  </thead>\n",
       "  <tbody>\n",
       "    <tr>\n",
       "      <th>0</th>\n",
       "      <td>Teso La Monja</td>\n",
       "      <td>Tinto</td>\n",
       "      <td>2013</td>\n",
       "      <td>4.9</td>\n",
       "      <td>58</td>\n",
       "      <td>Espana</td>\n",
       "      <td>Toro</td>\n",
       "      <td>Toro Red</td>\n",
       "      <td>5.0</td>\n",
       "      <td>3.0</td>\n",
       "      <td>58.448802</td>\n",
       "    </tr>\n",
       "    <tr>\n",
       "      <th>1</th>\n",
       "      <td>Artadi</td>\n",
       "      <td>Vina El Pison</td>\n",
       "      <td>2018</td>\n",
       "      <td>4.9</td>\n",
       "      <td>31</td>\n",
       "      <td>Espana</td>\n",
       "      <td>Vino de Espana</td>\n",
       "      <td>Tempranillo</td>\n",
       "      <td>4.0</td>\n",
       "      <td>2.0</td>\n",
       "      <td>64.583097</td>\n",
       "    </tr>\n",
       "    <tr>\n",
       "      <th>2</th>\n",
       "      <td>Vega Sicilia</td>\n",
       "      <td>Unico</td>\n",
       "      <td>2009</td>\n",
       "      <td>4.8</td>\n",
       "      <td>1793</td>\n",
       "      <td>Espana</td>\n",
       "      <td>Ribera del Duero</td>\n",
       "      <td>Ribera Del Duero Red</td>\n",
       "      <td>5.0</td>\n",
       "      <td>3.0</td>\n",
       "      <td>47.340530</td>\n",
       "    </tr>\n",
       "    <tr>\n",
       "      <th>3</th>\n",
       "      <td>Vega Sicilia</td>\n",
       "      <td>Unico</td>\n",
       "      <td>1999</td>\n",
       "      <td>4.8</td>\n",
       "      <td>1705</td>\n",
       "      <td>Espana</td>\n",
       "      <td>Ribera del Duero</td>\n",
       "      <td>Ribera Del Duero Red</td>\n",
       "      <td>5.0</td>\n",
       "      <td>3.0</td>\n",
       "      <td>75.057072</td>\n",
       "    </tr>\n",
       "    <tr>\n",
       "      <th>4</th>\n",
       "      <td>Vega Sicilia</td>\n",
       "      <td>Unico</td>\n",
       "      <td>1996</td>\n",
       "      <td>4.8</td>\n",
       "      <td>1309</td>\n",
       "      <td>Espana</td>\n",
       "      <td>Ribera del Duero</td>\n",
       "      <td>Ribera Del Duero Red</td>\n",
       "      <td>5.0</td>\n",
       "      <td>3.0</td>\n",
       "      <td>53.985312</td>\n",
       "    </tr>\n",
       "    <tr>\n",
       "      <th>...</th>\n",
       "      <td>...</td>\n",
       "      <td>...</td>\n",
       "      <td>...</td>\n",
       "      <td>...</td>\n",
       "      <td>...</td>\n",
       "      <td>...</td>\n",
       "      <td>...</td>\n",
       "      <td>...</td>\n",
       "      <td>...</td>\n",
       "      <td>...</td>\n",
       "      <td>...</td>\n",
       "    </tr>\n",
       "    <tr>\n",
       "      <th>7495</th>\n",
       "      <td>Contino</td>\n",
       "      <td>Reserva</td>\n",
       "      <td>2016</td>\n",
       "      <td>4.2</td>\n",
       "      <td>392</td>\n",
       "      <td>Espana</td>\n",
       "      <td>Rioja</td>\n",
       "      <td>Rioja Red</td>\n",
       "      <td>4.0</td>\n",
       "      <td>3.0</td>\n",
       "      <td>2861.884021</td>\n",
       "    </tr>\n",
       "    <tr>\n",
       "      <th>7496</th>\n",
       "      <td>Conreria d'Scala Dei</td>\n",
       "      <td>Les Brugueres</td>\n",
       "      <td>2018</td>\n",
       "      <td>4.2</td>\n",
       "      <td>390</td>\n",
       "      <td>Espana</td>\n",
       "      <td>Priorato</td>\n",
       "      <td>Priorat Red</td>\n",
       "      <td>4.0</td>\n",
       "      <td>3.0</td>\n",
       "      <td>2571.379524</td>\n",
       "    </tr>\n",
       "    <tr>\n",
       "      <th>7497</th>\n",
       "      <td>Mustiguillo</td>\n",
       "      <td>Finca Terrerazo</td>\n",
       "      <td>2017</td>\n",
       "      <td>4.2</td>\n",
       "      <td>390</td>\n",
       "      <td>Espana</td>\n",
       "      <td>El Terrerazo</td>\n",
       "      <td>Red</td>\n",
       "      <td>4.0</td>\n",
       "      <td>3.0</td>\n",
       "      <td>2784.382582</td>\n",
       "    </tr>\n",
       "    <tr>\n",
       "      <th>7498</th>\n",
       "      <td>Matarromera</td>\n",
       "      <td>Gran Reserva</td>\n",
       "      <td>2011</td>\n",
       "      <td>4.2</td>\n",
       "      <td>389</td>\n",
       "      <td>Espana</td>\n",
       "      <td>Ribera del Duero</td>\n",
       "      <td>Ribera Del Duero Red</td>\n",
       "      <td>5.0</td>\n",
       "      <td>3.0</td>\n",
       "      <td>3153.932677</td>\n",
       "    </tr>\n",
       "    <tr>\n",
       "      <th>7499</th>\n",
       "      <td>Sei Solo</td>\n",
       "      <td>Preludio</td>\n",
       "      <td>2016</td>\n",
       "      <td>4.2</td>\n",
       "      <td>388</td>\n",
       "      <td>Espana</td>\n",
       "      <td>Ribera del Duero</td>\n",
       "      <td>Ribera Del Duero Red</td>\n",
       "      <td>5.0</td>\n",
       "      <td>3.0</td>\n",
       "      <td>2783.265220</td>\n",
       "    </tr>\n",
       "  </tbody>\n",
       "</table>\n",
       "<p>7500 rows × 11 columns</p>\n",
       "</div>"
      ],
      "text/plain": [
       "                    winery             wine  year  rating  num_reviews  \\\n",
       "0            Teso La Monja            Tinto  2013     4.9           58   \n",
       "1                   Artadi    Vina El Pison  2018     4.9           31   \n",
       "2             Vega Sicilia            Unico  2009     4.8         1793   \n",
       "3             Vega Sicilia            Unico  1999     4.8         1705   \n",
       "4             Vega Sicilia            Unico  1996     4.8         1309   \n",
       "...                    ...              ...   ...     ...          ...   \n",
       "7495               Contino          Reserva  2016     4.2          392   \n",
       "7496  Conreria d'Scala Dei    Les Brugueres  2018     4.2          390   \n",
       "7497           Mustiguillo  Finca Terrerazo  2017     4.2          390   \n",
       "7498           Matarromera     Gran Reserva  2011     4.2          389   \n",
       "7499              Sei Solo         Preludio  2016     4.2          388   \n",
       "\n",
       "     country            region                  type  body  acidity  \\\n",
       "0     Espana              Toro              Toro Red   5.0      3.0   \n",
       "1     Espana    Vino de Espana           Tempranillo   4.0      2.0   \n",
       "2     Espana  Ribera del Duero  Ribera Del Duero Red   5.0      3.0   \n",
       "3     Espana  Ribera del Duero  Ribera Del Duero Red   5.0      3.0   \n",
       "4     Espana  Ribera del Duero  Ribera Del Duero Red   5.0      3.0   \n",
       "...      ...               ...                   ...   ...      ...   \n",
       "7495  Espana             Rioja             Rioja Red   4.0      3.0   \n",
       "7496  Espana          Priorato           Priorat Red   4.0      3.0   \n",
       "7497  Espana      El Terrerazo                   Red   4.0      3.0   \n",
       "7498  Espana  Ribera del Duero  Ribera Del Duero Red   5.0      3.0   \n",
       "7499  Espana  Ribera del Duero  Ribera Del Duero Red   5.0      3.0   \n",
       "\n",
       "      price_predicted  \n",
       "0           58.448802  \n",
       "1           64.583097  \n",
       "2           47.340530  \n",
       "3           75.057072  \n",
       "4           53.985312  \n",
       "...               ...  \n",
       "7495      2861.884021  \n",
       "7496      2571.379524  \n",
       "7497      2784.382582  \n",
       "7498      3153.932677  \n",
       "7499      2783.265220  \n",
       "\n",
       "[7500 rows x 11 columns]"
      ]
     },
     "execution_count": 57,
     "metadata": {},
     "output_type": "execute_result"
    }
   ],
   "source": [
    "# checking price predicted dataset\n",
    "wines_SPA_predicted"
   ]
  },
  {
   "cell_type": "code",
   "execution_count": 60,
   "id": "76722022",
   "metadata": {
    "ExecuteTime": {
     "end_time": "2022-08-16T21:53:21.421114Z",
     "start_time": "2022-08-16T21:53:21.333799Z"
    }
   },
   "outputs": [],
   "source": [
    "#deploying price predicted dataser\n",
    "wines_SPA_predicted.to_csv('data/wine_SPA_predicted.csv')"
   ]
  },
  {
   "cell_type": "markdown",
   "id": "47e6a7b1",
   "metadata": {},
   "source": [
    "# Other modeling verifications"
   ]
  },
  {
   "cell_type": "code",
   "execution_count": 61,
   "id": "3e6aa3d1",
   "metadata": {
    "ExecuteTime": {
     "end_time": "2022-08-16T21:53:22.700345Z",
     "start_time": "2022-08-16T21:53:22.686370Z"
    }
   },
   "outputs": [],
   "source": [
    "#Applying train test split\n",
    "X_train, X_test, y_train, y_test = train_test_split(X,y,test_size=0.2,random_state=42)"
   ]
  },
  {
   "cell_type": "code",
   "execution_count": 62,
   "id": "3b32a5e8",
   "metadata": {
    "ExecuteTime": {
     "end_time": "2022-08-16T21:53:24.918172Z",
     "start_time": "2022-08-16T21:53:24.544142Z"
    },
    "scrolled": true
   },
   "outputs": [
    {
     "data": {
      "text/html": [
       "<style>#sk-container-id-2 {color: black;background-color: white;}#sk-container-id-2 pre{padding: 0;}#sk-container-id-2 div.sk-toggleable {background-color: white;}#sk-container-id-2 label.sk-toggleable__label {cursor: pointer;display: block;width: 100%;margin-bottom: 0;padding: 0.3em;box-sizing: border-box;text-align: center;}#sk-container-id-2 label.sk-toggleable__label-arrow:before {content: \"▸\";float: left;margin-right: 0.25em;color: #696969;}#sk-container-id-2 label.sk-toggleable__label-arrow:hover:before {color: black;}#sk-container-id-2 div.sk-estimator:hover label.sk-toggleable__label-arrow:before {color: black;}#sk-container-id-2 div.sk-toggleable__content {max-height: 0;max-width: 0;overflow: hidden;text-align: left;background-color: #f0f8ff;}#sk-container-id-2 div.sk-toggleable__content pre {margin: 0.2em;color: black;border-radius: 0.25em;background-color: #f0f8ff;}#sk-container-id-2 input.sk-toggleable__control:checked~div.sk-toggleable__content {max-height: 200px;max-width: 100%;overflow: auto;}#sk-container-id-2 input.sk-toggleable__control:checked~label.sk-toggleable__label-arrow:before {content: \"▾\";}#sk-container-id-2 div.sk-estimator input.sk-toggleable__control:checked~label.sk-toggleable__label {background-color: #d4ebff;}#sk-container-id-2 div.sk-label input.sk-toggleable__control:checked~label.sk-toggleable__label {background-color: #d4ebff;}#sk-container-id-2 input.sk-hidden--visually {border: 0;clip: rect(1px 1px 1px 1px);clip: rect(1px, 1px, 1px, 1px);height: 1px;margin: -1px;overflow: hidden;padding: 0;position: absolute;width: 1px;}#sk-container-id-2 div.sk-estimator {font-family: monospace;background-color: #f0f8ff;border: 1px dotted black;border-radius: 0.25em;box-sizing: border-box;margin-bottom: 0.5em;}#sk-container-id-2 div.sk-estimator:hover {background-color: #d4ebff;}#sk-container-id-2 div.sk-parallel-item::after {content: \"\";width: 100%;border-bottom: 1px solid gray;flex-grow: 1;}#sk-container-id-2 div.sk-label:hover label.sk-toggleable__label {background-color: #d4ebff;}#sk-container-id-2 div.sk-serial::before {content: \"\";position: absolute;border-left: 1px solid gray;box-sizing: border-box;top: 0;bottom: 0;left: 50%;z-index: 0;}#sk-container-id-2 div.sk-serial {display: flex;flex-direction: column;align-items: center;background-color: white;padding-right: 0.2em;padding-left: 0.2em;position: relative;}#sk-container-id-2 div.sk-item {position: relative;z-index: 1;}#sk-container-id-2 div.sk-parallel {display: flex;align-items: stretch;justify-content: center;background-color: white;position: relative;}#sk-container-id-2 div.sk-item::before, #sk-container-id-2 div.sk-parallel-item::before {content: \"\";position: absolute;border-left: 1px solid gray;box-sizing: border-box;top: 0;bottom: 0;left: 50%;z-index: -1;}#sk-container-id-2 div.sk-parallel-item {display: flex;flex-direction: column;z-index: 1;position: relative;background-color: white;}#sk-container-id-2 div.sk-parallel-item:first-child::after {align-self: flex-end;width: 50%;}#sk-container-id-2 div.sk-parallel-item:last-child::after {align-self: flex-start;width: 50%;}#sk-container-id-2 div.sk-parallel-item:only-child::after {width: 0;}#sk-container-id-2 div.sk-dashed-wrapped {border: 1px dashed gray;margin: 0 0.4em 0.5em 0.4em;box-sizing: border-box;padding-bottom: 0.4em;background-color: white;}#sk-container-id-2 div.sk-label label {font-family: monospace;font-weight: bold;display: inline-block;line-height: 1.2em;}#sk-container-id-2 div.sk-label-container {text-align: center;}#sk-container-id-2 div.sk-container {/* jupyter's `normalize.less` sets `[hidden] { display: none; }` but bootstrap.min.css set `[hidden] { display: none !important; }` so we also need the `!important` here to be able to override the default hidden behavior on the sphinx rendered scikit-learn.org. See: https://github.com/scikit-learn/scikit-learn/issues/21755 */display: inline-block !important;position: relative;}#sk-container-id-2 div.sk-text-repr-fallback {display: none;}</style><div id=\"sk-container-id-2\" class=\"sk-top-container\"><div class=\"sk-text-repr-fallback\"><pre>XGBRegressor(base_score=0.5, booster=&#x27;gbtree&#x27;, callbacks=None,\n",
       "             colsample_bylevel=1, colsample_bynode=1, colsample_bytree=1,\n",
       "             early_stopping_rounds=None, enable_categorical=False,\n",
       "             eval_metric=None, gamma=0, gpu_id=-1, grow_policy=&#x27;depthwise&#x27;,\n",
       "             importance_type=None, interaction_constraints=&#x27;&#x27;,\n",
       "             learning_rate=0.300000012, max_bin=256, max_cat_to_onehot=4,\n",
       "             max_delta_step=0, max_depth=6, max_leaves=0, min_child_weight=1,\n",
       "             missing=nan, monotone_constraints=&#x27;()&#x27;, n_estimators=100, n_jobs=0,\n",
       "             num_parallel_tree=1, predictor=&#x27;auto&#x27;, random_state=0, reg_alpha=0,\n",
       "             reg_lambda=1, ...)</pre><b>In a Jupyter environment, please rerun this cell to show the HTML representation or trust the notebook. <br />On GitHub, the HTML representation is unable to render, please try loading this page with nbviewer.org.</b></div><div class=\"sk-container\" hidden><div class=\"sk-item\"><div class=\"sk-estimator sk-toggleable\"><input class=\"sk-toggleable__control sk-hidden--visually\" id=\"sk-estimator-id-2\" type=\"checkbox\" checked><label for=\"sk-estimator-id-2\" class=\"sk-toggleable__label sk-toggleable__label-arrow\">XGBRegressor</label><div class=\"sk-toggleable__content\"><pre>XGBRegressor(base_score=0.5, booster=&#x27;gbtree&#x27;, callbacks=None,\n",
       "             colsample_bylevel=1, colsample_bynode=1, colsample_bytree=1,\n",
       "             early_stopping_rounds=None, enable_categorical=False,\n",
       "             eval_metric=None, gamma=0, gpu_id=-1, grow_policy=&#x27;depthwise&#x27;,\n",
       "             importance_type=None, interaction_constraints=&#x27;&#x27;,\n",
       "             learning_rate=0.300000012, max_bin=256, max_cat_to_onehot=4,\n",
       "             max_delta_step=0, max_depth=6, max_leaves=0, min_child_weight=1,\n",
       "             missing=nan, monotone_constraints=&#x27;()&#x27;, n_estimators=100, n_jobs=0,\n",
       "             num_parallel_tree=1, predictor=&#x27;auto&#x27;, random_state=0, reg_alpha=0,\n",
       "             reg_lambda=1, ...)</pre></div></div></div></div></div>"
      ],
      "text/plain": [
       "XGBRegressor(base_score=0.5, booster='gbtree', callbacks=None,\n",
       "             colsample_bylevel=1, colsample_bynode=1, colsample_bytree=1,\n",
       "             early_stopping_rounds=None, enable_categorical=False,\n",
       "             eval_metric=None, gamma=0, gpu_id=-1, grow_policy='depthwise',\n",
       "             importance_type=None, interaction_constraints='',\n",
       "             learning_rate=0.300000012, max_bin=256, max_cat_to_onehot=4,\n",
       "             max_delta_step=0, max_depth=6, max_leaves=0, min_child_weight=1,\n",
       "             missing=nan, monotone_constraints='()', n_estimators=100, n_jobs=0,\n",
       "             num_parallel_tree=1, predictor='auto', random_state=0, reg_alpha=0,\n",
       "             reg_lambda=1, ...)"
      ]
     },
     "execution_count": 62,
     "metadata": {},
     "output_type": "execute_result"
    }
   ],
   "source": [
    "#Applying XGB regressor and fitting model\n",
    "model1 = XGBRegressor()\n",
    "model1.fit(X_train,y_train)"
   ]
  },
  {
   "cell_type": "code",
   "execution_count": 63,
   "id": "879cc857",
   "metadata": {
    "ExecuteTime": {
     "end_time": "2022-08-16T21:53:29.023386Z",
     "start_time": "2022-08-16T21:53:29.016437Z"
    }
   },
   "outputs": [],
   "source": [
    "#checking prediction\n",
    "y_pred1 = model.predict(X_test)\n",
    "y_pred1"
   ]
  },
  {
   "cell_type": "code",
   "execution_count": 65,
   "id": "19eb79ff",
   "metadata": {
    "ExecuteTime": {
     "end_time": "2022-08-16T21:53:34.525715Z",
     "start_time": "2022-08-16T21:53:34.503398Z"
    }
   },
   "outputs": [
    {
     "data": {
      "text/plain": [
       "0.9651624760145696"
      ]
     },
     "execution_count": 65,
     "metadata": {},
     "output_type": "execute_result"
    }
   ],
   "source": [
    "#checking XGB score\n",
    "model1.score(X_test,y_test)"
   ]
  },
  {
   "cell_type": "code",
   "execution_count": 66,
   "id": "e4df72a3",
   "metadata": {
    "ExecuteTime": {
     "end_time": "2022-08-16T21:53:36.550433Z",
     "start_time": "2022-08-16T21:53:36.277073Z"
    }
   },
   "outputs": [
    {
     "data": {
      "text/html": [
       "<style>#sk-container-id-3 {color: black;background-color: white;}#sk-container-id-3 pre{padding: 0;}#sk-container-id-3 div.sk-toggleable {background-color: white;}#sk-container-id-3 label.sk-toggleable__label {cursor: pointer;display: block;width: 100%;margin-bottom: 0;padding: 0.3em;box-sizing: border-box;text-align: center;}#sk-container-id-3 label.sk-toggleable__label-arrow:before {content: \"▸\";float: left;margin-right: 0.25em;color: #696969;}#sk-container-id-3 label.sk-toggleable__label-arrow:hover:before {color: black;}#sk-container-id-3 div.sk-estimator:hover label.sk-toggleable__label-arrow:before {color: black;}#sk-container-id-3 div.sk-toggleable__content {max-height: 0;max-width: 0;overflow: hidden;text-align: left;background-color: #f0f8ff;}#sk-container-id-3 div.sk-toggleable__content pre {margin: 0.2em;color: black;border-radius: 0.25em;background-color: #f0f8ff;}#sk-container-id-3 input.sk-toggleable__control:checked~div.sk-toggleable__content {max-height: 200px;max-width: 100%;overflow: auto;}#sk-container-id-3 input.sk-toggleable__control:checked~label.sk-toggleable__label-arrow:before {content: \"▾\";}#sk-container-id-3 div.sk-estimator input.sk-toggleable__control:checked~label.sk-toggleable__label {background-color: #d4ebff;}#sk-container-id-3 div.sk-label input.sk-toggleable__control:checked~label.sk-toggleable__label {background-color: #d4ebff;}#sk-container-id-3 input.sk-hidden--visually {border: 0;clip: rect(1px 1px 1px 1px);clip: rect(1px, 1px, 1px, 1px);height: 1px;margin: -1px;overflow: hidden;padding: 0;position: absolute;width: 1px;}#sk-container-id-3 div.sk-estimator {font-family: monospace;background-color: #f0f8ff;border: 1px dotted black;border-radius: 0.25em;box-sizing: border-box;margin-bottom: 0.5em;}#sk-container-id-3 div.sk-estimator:hover {background-color: #d4ebff;}#sk-container-id-3 div.sk-parallel-item::after {content: \"\";width: 100%;border-bottom: 1px solid gray;flex-grow: 1;}#sk-container-id-3 div.sk-label:hover label.sk-toggleable__label {background-color: #d4ebff;}#sk-container-id-3 div.sk-serial::before {content: \"\";position: absolute;border-left: 1px solid gray;box-sizing: border-box;top: 0;bottom: 0;left: 50%;z-index: 0;}#sk-container-id-3 div.sk-serial {display: flex;flex-direction: column;align-items: center;background-color: white;padding-right: 0.2em;padding-left: 0.2em;position: relative;}#sk-container-id-3 div.sk-item {position: relative;z-index: 1;}#sk-container-id-3 div.sk-parallel {display: flex;align-items: stretch;justify-content: center;background-color: white;position: relative;}#sk-container-id-3 div.sk-item::before, #sk-container-id-3 div.sk-parallel-item::before {content: \"\";position: absolute;border-left: 1px solid gray;box-sizing: border-box;top: 0;bottom: 0;left: 50%;z-index: -1;}#sk-container-id-3 div.sk-parallel-item {display: flex;flex-direction: column;z-index: 1;position: relative;background-color: white;}#sk-container-id-3 div.sk-parallel-item:first-child::after {align-self: flex-end;width: 50%;}#sk-container-id-3 div.sk-parallel-item:last-child::after {align-self: flex-start;width: 50%;}#sk-container-id-3 div.sk-parallel-item:only-child::after {width: 0;}#sk-container-id-3 div.sk-dashed-wrapped {border: 1px dashed gray;margin: 0 0.4em 0.5em 0.4em;box-sizing: border-box;padding-bottom: 0.4em;background-color: white;}#sk-container-id-3 div.sk-label label {font-family: monospace;font-weight: bold;display: inline-block;line-height: 1.2em;}#sk-container-id-3 div.sk-label-container {text-align: center;}#sk-container-id-3 div.sk-container {/* jupyter's `normalize.less` sets `[hidden] { display: none; }` but bootstrap.min.css set `[hidden] { display: none !important; }` so we also need the `!important` here to be able to override the default hidden behavior on the sphinx rendered scikit-learn.org. See: https://github.com/scikit-learn/scikit-learn/issues/21755 */display: inline-block !important;position: relative;}#sk-container-id-3 div.sk-text-repr-fallback {display: none;}</style><div id=\"sk-container-id-3\" class=\"sk-top-container\"><div class=\"sk-text-repr-fallback\"><pre>GradientBoostingRegressor()</pre><b>In a Jupyter environment, please rerun this cell to show the HTML representation or trust the notebook. <br />On GitHub, the HTML representation is unable to render, please try loading this page with nbviewer.org.</b></div><div class=\"sk-container\" hidden><div class=\"sk-item\"><div class=\"sk-estimator sk-toggleable\"><input class=\"sk-toggleable__control sk-hidden--visually\" id=\"sk-estimator-id-3\" type=\"checkbox\" checked><label for=\"sk-estimator-id-3\" class=\"sk-toggleable__label sk-toggleable__label-arrow\">GradientBoostingRegressor</label><div class=\"sk-toggleable__content\"><pre>GradientBoostingRegressor()</pre></div></div></div></div></div>"
      ],
      "text/plain": [
       "GradientBoostingRegressor()"
      ]
     },
     "execution_count": 66,
     "metadata": {},
     "output_type": "execute_result"
    }
   ],
   "source": [
    "#Applying Gradient Boosting Regressor and fitting model \n",
    "model2 = GradientBoostingRegressor()\n",
    "model2.fit(X_train,y_train)"
   ]
  },
  {
   "cell_type": "code",
   "execution_count": 67,
   "id": "de71c534",
   "metadata": {
    "ExecuteTime": {
     "end_time": "2022-08-16T21:53:39.196642Z",
     "start_time": "2022-08-16T21:53:39.185382Z"
    }
   },
   "outputs": [],
   "source": [
    "#checking prediction\n",
    "y_pred2 = model2.predict(X_test)\n",
    "y_pred2"
   ]
  },
  {
   "cell_type": "code",
   "execution_count": 69,
   "id": "1e7cb57b",
   "metadata": {
    "ExecuteTime": {
     "end_time": "2022-08-16T21:53:42.095828Z",
     "start_time": "2022-08-16T21:53:42.080300Z"
    }
   },
   "outputs": [
    {
     "data": {
      "text/plain": [
       "0.9633866564151858"
      ]
     },
     "execution_count": 69,
     "metadata": {},
     "output_type": "execute_result"
    }
   ],
   "source": [
    "#checking GBR score\n",
    "model2.score(X_test,y_test)"
   ]
  }
 ],
 "metadata": {
  "kernelspec": {
   "display_name": "pycaret_july_2022",
   "language": "python",
   "name": "yourenvname"
  },
  "language_info": {
   "codemirror_mode": {
    "name": "ipython",
    "version": 3
   },
   "file_extension": ".py",
   "mimetype": "text/x-python",
   "name": "python",
   "nbconvert_exporter": "python",
   "pygments_lexer": "ipython3",
   "version": "3.9.7"
  },
  "toc": {
   "base_numbering": 1,
   "nav_menu": {},
   "number_sections": true,
   "sideBar": true,
   "skip_h1_title": false,
   "title_cell": "Table of Contents",
   "title_sidebar": "Contents",
   "toc_cell": false,
   "toc_position": {},
   "toc_section_display": true,
   "toc_window_display": false
  }
 },
 "nbformat": 4,
 "nbformat_minor": 5
}
